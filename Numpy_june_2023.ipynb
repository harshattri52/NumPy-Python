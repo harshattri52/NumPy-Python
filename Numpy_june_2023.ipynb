{
  "nbformat": 4,
  "nbformat_minor": 0,
  "metadata": {
    "colab": {
      "provenance": [],
      "authorship_tag": "ABX9TyNY80n2AbTeaEIYAjaH8Tjm",
      "include_colab_link": true
    },
    "kernelspec": {
      "name": "python3",
      "display_name": "Python 3"
    },
    "language_info": {
      "name": "python"
    }
  },
  "cells": [
    {
      "cell_type": "markdown",
      "metadata": {
        "id": "view-in-github",
        "colab_type": "text"
      },
      "source": [
        "<a href=\"https://colab.research.google.com/github/harshattri52/NumPy-Python/blob/main/Numpy_june_2023.ipynb\" target=\"_parent\"><img src=\"https://colab.research.google.com/assets/colab-badge.svg\" alt=\"Open In Colab\"/></a>"
      ]
    },
    {
      "cell_type": "code",
      "execution_count": null,
      "metadata": {
        "colab": {
          "base_uri": "https://localhost:8080/"
        },
        "id": "2wJ1h4sYYmiY",
        "outputId": "3cb777b8-a235-45a5-b825-f9b7b3f078f0"
      },
      "outputs": [
        {
          "output_type": "stream",
          "name": "stdout",
          "text": [
            "[1 2 3 4]\n",
            "<class 'numpy.ndarray'>\n"
          ]
        }
      ],
      "source": [
        "import numpy as np\n",
        "\n",
        "x=np.array([1,2,3,4])\n",
        "print(x)\n",
        "print(type(x))"
      ]
    },
    {
      "cell_type": "code",
      "source": [
        "y=[1,2,3,4]\n",
        "print(y)\n",
        "print(type(y))"
      ],
      "metadata": {
        "colab": {
          "base_uri": "https://localhost:8080/"
        },
        "id": "OighDNkEd4sp",
        "outputId": "b94eb7f9-e9f6-49bb-ca74-298c91ff451e"
      },
      "execution_count": null,
      "outputs": [
        {
          "output_type": "stream",
          "name": "stdout",
          "text": [
            "[1, 2, 3, 4]\n",
            "<class 'list'>\n"
          ]
        }
      ]
    },
    {
      "cell_type": "code",
      "source": [
        "%timeit [j**4 for j in range(1,9)]"
      ],
      "metadata": {
        "colab": {
          "base_uri": "https://localhost:8080/"
        },
        "id": "Fmhmy9uyekOY",
        "outputId": "3ee1083a-68b2-4c69-e53c-7fd512a621db"
      },
      "execution_count": null,
      "outputs": [
        {
          "output_type": "stream",
          "name": "stdout",
          "text": [
            "2.58 µs ± 131 ns per loop (mean ± std. dev. of 7 runs, 100000 loops each)\n"
          ]
        }
      ]
    },
    {
      "cell_type": "code",
      "source": [
        "import numpy as np\n",
        "%timeit np.arange(1,9)**4"
      ],
      "metadata": {
        "colab": {
          "base_uri": "https://localhost:8080/"
        },
        "id": "YzNn4Kc9mzKg",
        "outputId": "3ce62d91-61f4-41c0-c52a-64def659f37f"
      },
      "execution_count": null,
      "outputs": [
        {
          "output_type": "stream",
          "name": "stdout",
          "text": [
            "2.24 µs ± 81.8 ns per loop (mean ± std. dev. of 7 runs, 100000 loops each)\n"
          ]
        }
      ]
    },
    {
      "cell_type": "code",
      "source": [
        "#ARRAYS\n",
        "\n",
        "import numpy as np\n",
        "x=[1,2,3,4]\n",
        "\n",
        "y=np.array([1,2,3,4,5])\n",
        "print(y)\n",
        "print(type(y))\n",
        "print(y.ndim) #ndim tells the dimension of an array"
      ],
      "metadata": {
        "id": "bj4o1yGWneLI",
        "colab": {
          "base_uri": "https://localhost:8080/"
        },
        "outputId": "ce2f89f6-6714-4597-e0d4-a67753ba6580"
      },
      "execution_count": null,
      "outputs": [
        {
          "output_type": "stream",
          "name": "stdout",
          "text": [
            "[1 2 3 4 5]\n",
            "<class 'numpy.ndarray'>\n",
            "1\n"
          ]
        }
      ]
    },
    {
      "cell_type": "code",
      "source": [
        "l=[]\n",
        "\n",
        "for i in range(1,5):\n",
        "  int_1=int(input(\"enter :\"))\n",
        "  l.append(int_1)\n",
        "\n",
        "print(np.array(l))"
      ],
      "metadata": {
        "colab": {
          "base_uri": "https://localhost:8080/"
        },
        "id": "PTZze-pl-Lon",
        "outputId": "8f4e6125-06df-4644-d628-601ffa519bca"
      },
      "execution_count": null,
      "outputs": [
        {
          "output_type": "stream",
          "name": "stdout",
          "text": [
            "enter :12\n",
            "enter :13\n",
            "enter :14\n",
            "enter :15\n",
            "[12 13 14 15]\n"
          ]
        }
      ]
    },
    {
      "cell_type": "code",
      "source": [
        " arr2=np.array([[1,2,3,4],[4,3,2,1]])\n",
        " print(arr2)\n",
        " print(arr2.ndim)"
      ],
      "metadata": {
        "colab": {
          "base_uri": "https://localhost:8080/"
        },
        "id": "6DNHAZ1z-b-9",
        "outputId": "3f8fe9c7-3f72-44b3-e263-b8945badcb31"
      },
      "execution_count": null,
      "outputs": [
        {
          "output_type": "stream",
          "name": "stdout",
          "text": [
            "[[1 2 3 4]\n",
            " [4 3 2 1]]\n",
            "2\n"
          ]
        }
      ]
    },
    {
      "cell_type": "code",
      "source": [
        " arr3=np.array([[1,2,3,4],[4,3,2,1],[1,2,3,4]])\n",
        " print(arr3)\n",
        " print(arr3.ndim)"
      ],
      "metadata": {
        "colab": {
          "base_uri": "https://localhost:8080/"
        },
        "id": "MMBsiJej__4W",
        "outputId": "be95df0d-448e-4314-b37d-13e4088e2830"
      },
      "execution_count": null,
      "outputs": [
        {
          "output_type": "stream",
          "name": "stdout",
          "text": [
            "[[1 2 3 4]\n",
            " [4 3 2 1]\n",
            " [1 2 3 4]]\n",
            "2\n"
          ]
        }
      ]
    },
    {
      "cell_type": "code",
      "source": [
        "arn=np.array([1,2,3,4],ndmin=10)\n",
        "print(arn)\n",
        "print(arn.ndim)"
      ],
      "metadata": {
        "colab": {
          "base_uri": "https://localhost:8080/"
        },
        "id": "4NS2w_kFAcop",
        "outputId": "1e040e1c-4019-4f6a-a610-b0204820879b"
      },
      "execution_count": null,
      "outputs": [
        {
          "output_type": "stream",
          "name": "stdout",
          "text": [
            "[[[[[[[[[[1 2 3 4]]]]]]]]]]\n",
            "10\n"
          ]
        }
      ]
    },
    {
      "cell_type": "code",
      "source": [
        "#L4\n",
        "#zeroes\n",
        "import numpy as np\n",
        "\n",
        "ar_zero=np.zeros(4)\n",
        "ar_zero1=np.zeros((3,4))\n",
        "\n",
        "print(ar_zero)\n",
        "print()\n",
        "print(ar_zero1)\n"
      ],
      "metadata": {
        "colab": {
          "base_uri": "https://localhost:8080/"
        },
        "id": "1DcN41FSAuSB",
        "outputId": "2cda724f-6a8d-49ab-b34c-d157acd5eff7"
      },
      "execution_count": null,
      "outputs": [
        {
          "output_type": "stream",
          "name": "stdout",
          "text": [
            "[0. 0. 0. 0.]\n",
            "\n",
            "[[0. 0. 0. 0.]\n",
            " [0. 0. 0. 0.]\n",
            " [0. 0. 0. 0.]]\n"
          ]
        }
      ]
    },
    {
      "cell_type": "code",
      "source": [
        "#ones\n",
        "ar_one = np.ones(4)\n",
        "\n",
        "print(ar_one)"
      ],
      "metadata": {
        "colab": {
          "base_uri": "https://localhost:8080/"
        },
        "id": "PloGQDJACGGA",
        "outputId": "87c248af-4eec-4eef-ef8a-aa9179309515"
      },
      "execution_count": null,
      "outputs": [
        {
          "output_type": "stream",
          "name": "stdout",
          "text": [
            "[1. 1. 1. 1.]\n"
          ]
        }
      ]
    },
    {
      "cell_type": "code",
      "source": [
        "#empty array\n",
        "ar_emp=np.empty(4)\n",
        "\n",
        "print(ar_emp)"
      ],
      "metadata": {
        "colab": {
          "base_uri": "https://localhost:8080/"
        },
        "id": "jlWnm564CNfG",
        "outputId": "efd41bc8-1017-49c4-c42c-f6cdedfd2812"
      },
      "execution_count": null,
      "outputs": [
        {
          "output_type": "stream",
          "name": "stdout",
          "text": [
            "[1. 1. 1. 1.]\n"
          ]
        }
      ]
    },
    {
      "cell_type": "code",
      "source": [
        "#range\n",
        "arr_rn = np.arange(4)\n",
        "print(arr_rn)"
      ],
      "metadata": {
        "colab": {
          "base_uri": "https://localhost:8080/"
        },
        "id": "82gkMO-uCaVF",
        "outputId": "f8e69353-458c-4587-c9f5-bf306aa98960"
      },
      "execution_count": null,
      "outputs": [
        {
          "output_type": "stream",
          "name": "stdout",
          "text": [
            "[0 1 2 3]\n"
          ]
        }
      ]
    },
    {
      "cell_type": "code",
      "source": [
        "#diagonal\n",
        "ar_dia=np.eye(3)\n",
        "print(ar_dia)"
      ],
      "metadata": {
        "colab": {
          "base_uri": "https://localhost:8080/"
        },
        "id": "3J5fMpndCqGI",
        "outputId": "c387a77d-4431-45e4-923b-b96104bb84ef"
      },
      "execution_count": null,
      "outputs": [
        {
          "output_type": "stream",
          "name": "stdout",
          "text": [
            "[[1. 0. 0.]\n",
            " [0. 1. 0.]\n",
            " [0. 0. 1.]]\n"
          ]
        }
      ]
    },
    {
      "cell_type": "code",
      "source": [
        "ar_dia=np.eye(3,5)\n",
        "print(ar_dia)"
      ],
      "metadata": {
        "colab": {
          "base_uri": "https://localhost:8080/"
        },
        "id": "xPrDivPSDESX",
        "outputId": "49e94aa6-4167-4cce-d02f-263a73f124f2"
      },
      "execution_count": null,
      "outputs": [
        {
          "output_type": "stream",
          "name": "stdout",
          "text": [
            "[[1. 0. 0. 0. 0.]\n",
            " [0. 1. 0. 0. 0.]\n",
            " [0. 0. 1. 0. 0.]]\n"
          ]
        }
      ]
    },
    {
      "cell_type": "code",
      "source": [
        "#linespace\n",
        "ar_lin=np.linspace(0,20,num=5)\n",
        "print(ar_lin)"
      ],
      "metadata": {
        "colab": {
          "base_uri": "https://localhost:8080/"
        },
        "id": "gXbCbXxfDNcu",
        "outputId": "ad41ebe1-db8c-4ce0-d9de-09802c9b58c3"
      },
      "execution_count": null,
      "outputs": [
        {
          "output_type": "stream",
          "name": "stdout",
          "text": [
            "[ 0.  5. 10. 15. 20.]\n"
          ]
        }
      ]
    },
    {
      "cell_type": "code",
      "source": [
        "#L5\n",
        "#RANDOM\n",
        "#rand()---print ranom values between 0 and 1\n",
        "import numpy as np\n",
        "\n",
        "var=np.random.rand(4)\n",
        "\n",
        "print(var)\n",
        "print()\n",
        "\n",
        "#for 2d array\n",
        "var1=np.random.rand(4,4)\n",
        "print(var1)"
      ],
      "metadata": {
        "colab": {
          "base_uri": "https://localhost:8080/"
        },
        "id": "u-1jZpoYDhC4",
        "outputId": "a529ded3-b9f1-4ffb-a359-887899fc51e6"
      },
      "execution_count": null,
      "outputs": [
        {
          "output_type": "stream",
          "name": "stdout",
          "text": [
            "[0.05455815 0.35780627 0.84169605 0.29707819]\n",
            "\n",
            "[[0.27568117 0.55173566 0.52148747 0.66922221]\n",
            " [0.50389677 0.29056211 0.66545872 0.86850951]\n",
            " [0.10784028 0.73818287 0.88276545 0.27859649]\n",
            " [0.00466365 0.80546861 0.98866684 0.96680014]]\n"
          ]
        }
      ]
    },
    {
      "cell_type": "code",
      "source": [
        "#randn()--print values close to zero\n",
        "\n",
        "var2=np.random.randn(5)\n",
        "\n",
        "print(var2)"
      ],
      "metadata": {
        "colab": {
          "base_uri": "https://localhost:8080/"
        },
        "id": "83IoRLrQF2k4",
        "outputId": "8be36169-8b29-4a79-f6c7-16abdac0da83"
      },
      "execution_count": null,
      "outputs": [
        {
          "output_type": "stream",
          "name": "stdout",
          "text": [
            "[ 0.51776588 -0.05502715 -0.3616607  -1.20455581  1.88559139]\n"
          ]
        }
      ]
    },
    {
      "cell_type": "code",
      "source": [
        "#ranf()--\n",
        "var3=np.random.ranf(4)\n",
        "\n",
        "print(var3)"
      ],
      "metadata": {
        "colab": {
          "base_uri": "https://localhost:8080/"
        },
        "id": "LkSbYyZ4GcQc",
        "outputId": "b190a5f8-7b98-450b-99c3-fb9ba0ba4aaa"
      },
      "execution_count": null,
      "outputs": [
        {
          "output_type": "stream",
          "name": "stdout",
          "text": [
            "[0.24520766 0.5492878  0.85700301 0.19332257]\n"
          ]
        }
      ]
    },
    {
      "cell_type": "code",
      "source": [
        "#randint--\n",
        "var3=np.random.ranf(4)\n",
        "\n",
        "print(var3)"
      ],
      "metadata": {
        "colab": {
          "base_uri": "https://localhost:8080/"
        },
        "id": "TjwmfcU9Ha4C",
        "outputId": "1f1caab7-5f91-41a5-fd94-8baed741d055"
      },
      "execution_count": null,
      "outputs": [
        {
          "output_type": "stream",
          "name": "stdout",
          "text": [
            "[0.06367646 0.73001002 0.65035448 0.29209577]\n"
          ]
        }
      ]
    },
    {
      "cell_type": "code",
      "source": [
        "#randint()\n",
        "#var4=np.random.randint(min,max,total_values)\n",
        "var4=np.random.randint(5,20,5)\n",
        "\n",
        "print(var4)"
      ],
      "metadata": {
        "colab": {
          "base_uri": "https://localhost:8080/"
        },
        "id": "4BX56bErHpNq",
        "outputId": "3c5dbea4-0239-49f8-ba53-0b629097eceb"
      },
      "execution_count": null,
      "outputs": [
        {
          "output_type": "stream",
          "name": "stdout",
          "text": [
            "[16 12 15 11  7]\n"
          ]
        }
      ]
    },
    {
      "cell_type": "code",
      "source": [
        "#L6\n",
        "#DATA TYPE\n",
        "import numpy as np\n",
        "\n",
        "var=np.array([1,2,3,4])\n",
        "\n",
        "print(\"Data Type :\",var.dtype)"
      ],
      "metadata": {
        "id": "20d8FMseH7au",
        "colab": {
          "base_uri": "https://localhost:8080/"
        },
        "outputId": "af52ac28-f87d-4375-8d2f-917b9d3e379c"
      },
      "execution_count": null,
      "outputs": [
        {
          "output_type": "stream",
          "name": "stdout",
          "text": [
            "Data Type : int64\n"
          ]
        }
      ]
    },
    {
      "cell_type": "code",
      "source": [
        "var=np.array([1.0,1.2,1.3])\n",
        "\n",
        "print(\"Data Type :\",var.dtype)"
      ],
      "metadata": {
        "colab": {
          "base_uri": "https://localhost:8080/"
        },
        "id": "vvQvNdC0SBYw",
        "outputId": "0a4bb105-d254-43ac-849c-7229ef6ca9a4"
      },
      "execution_count": null,
      "outputs": [
        {
          "output_type": "stream",
          "name": "stdout",
          "text": [
            "Data Type : float64\n"
          ]
        }
      ]
    },
    {
      "cell_type": "code",
      "source": [
        "var=np.array([\"A\",\"S\",\"D\",\"F\"])\n",
        "\n",
        "print(\"Data Type :\",var.dtype)"
      ],
      "metadata": {
        "colab": {
          "base_uri": "https://localhost:8080/"
        },
        "id": "8Em5PPMESNlT",
        "outputId": "3ecb0b69-8e18-4bb6-d409-41b946034f8e"
      },
      "execution_count": null,
      "outputs": [
        {
          "output_type": "stream",
          "name": "stdout",
          "text": [
            "Data Type : <U1\n"
          ]
        }
      ]
    },
    {
      "cell_type": "code",
      "source": [
        "var=np.array([1,2,3,4,\"a\",\"b\"])\n",
        "\n",
        "print(\"Data Type :\",var.dtype)"
      ],
      "metadata": {
        "colab": {
          "base_uri": "https://localhost:8080/"
        },
        "id": "2aziiw6xSVPj",
        "outputId": "c768a7f7-12ca-401b-f6b4-55e5fc444fec"
      },
      "execution_count": null,
      "outputs": [
        {
          "output_type": "stream",
          "name": "stdout",
          "text": [
            "Data Type : <U21\n"
          ]
        }
      ]
    },
    {
      "cell_type": "code",
      "source": [
        "x = np.array([1,2,3,4],dtype=np.int8)\n",
        "\n",
        "print(\"Data Type : \",x.dtype)"
      ],
      "metadata": {
        "colab": {
          "base_uri": "https://localhost:8080/"
        },
        "id": "Z8FzI5LKSeG5",
        "outputId": "603771e9-fc3f-466d-9169-350edb79c947"
      },
      "execution_count": null,
      "outputs": [
        {
          "output_type": "stream",
          "name": "stdout",
          "text": [
            "Data Type :  int8\n"
          ]
        }
      ]
    },
    {
      "cell_type": "code",
      "source": [
        "x1 = np.array([1,2,3,4],dtype= \"f\")\n",
        "\n",
        "print(\"Data Type : \",x1.dtype)\n",
        "print(x1)"
      ],
      "metadata": {
        "colab": {
          "base_uri": "https://localhost:8080/"
        },
        "id": "gdxBzZROS23M",
        "outputId": "128b911f-b636-41e4-a933-13df2bf75270"
      },
      "execution_count": null,
      "outputs": [
        {
          "output_type": "stream",
          "name": "stdout",
          "text": [
            "Data Type :  float32\n",
            "[1. 2. 3. 4.]\n"
          ]
        }
      ]
    },
    {
      "cell_type": "code",
      "source": [
        "#converting data types to different data types\n",
        "x2 = np.array([1,2,3,4])\n",
        "\n",
        "new=np.float32(x2)\n",
        "\n",
        "new_one=np.int_(new)\n",
        "print(\"Data Type : \",x2.dtype)\n",
        "print(\"Data Type : \",new.dtype)\n",
        "print(\"Data Type : \",new_one.dtype)\n",
        "print(x2)\n",
        "print(new)\n",
        "print(new_one)"
      ],
      "metadata": {
        "colab": {
          "base_uri": "https://localhost:8080/"
        },
        "id": "QpoLtJQfTX_V",
        "outputId": "3ab280be-c003-4e73-f21b-16c8e714aa7d"
      },
      "execution_count": null,
      "outputs": [
        {
          "output_type": "stream",
          "name": "stdout",
          "text": [
            "Data Type :  int64\n",
            "Data Type :  float32\n",
            "Data Type :  int64\n",
            "[1 2 3 4]\n",
            "[1. 2. 3. 4.]\n",
            "[1 2 3 4]\n"
          ]
        }
      ]
    },
    {
      "cell_type": "code",
      "source": [
        "x3 = np.array([1,2,3,4])\n",
        "\n",
        "new_1=x3.astype(float)\n",
        "\n",
        "print(x3)\n",
        "print(new_1)"
      ],
      "metadata": {
        "colab": {
          "base_uri": "https://localhost:8080/"
        },
        "id": "ICTgfaM8Ttm9",
        "outputId": "c1e66dc6-1970-40a9-d2c1-f60c91c217dc"
      },
      "execution_count": null,
      "outputs": [
        {
          "output_type": "stream",
          "name": "stdout",
          "text": [
            "[1 2 3 4]\n",
            "[1. 2. 3. 4.]\n"
          ]
        }
      ]
    },
    {
      "cell_type": "code",
      "source": [
        "#L7\n",
        "#ARITHMETIC OPERATION\n",
        "import numpy as np\n",
        "\n",
        "var=np.array([1,2,3,4])\n",
        "varadd=var+3\n",
        "print(varadd)"
      ],
      "metadata": {
        "colab": {
          "base_uri": "https://localhost:8080/"
        },
        "id": "R5wJ5Y6TXOc-",
        "outputId": "5f74d526-3b3e-4eed-aede-d92932a2f0ed"
      },
      "execution_count": null,
      "outputs": [
        {
          "output_type": "stream",
          "name": "stdout",
          "text": [
            "[4 5 6 7]\n"
          ]
        }
      ]
    },
    {
      "cell_type": "code",
      "source": [
        "var1=np.array([1,2,3,4])\n",
        "var2=np.array([1,2,3,4])\n",
        "varadd=var1+var2\n",
        "print(varadd)"
      ],
      "metadata": {
        "colab": {
          "base_uri": "https://localhost:8080/"
        },
        "id": "xb7QH4lSasPn",
        "outputId": "9d364c92-6b66-483e-fac0-ed84e4f843eb"
      },
      "execution_count": null,
      "outputs": [
        {
          "output_type": "stream",
          "name": "stdout",
          "text": [
            "[2 4 6 8]\n"
          ]
        }
      ]
    },
    {
      "cell_type": "code",
      "source": [
        "#byfunction\n",
        "var1=np.array([1,2,3,4])\n",
        "var2=np.array([1,2,3,4])\n",
        "varadd=np.add(var1,var2)\n",
        "print(varadd)\n"
      ],
      "metadata": {
        "colab": {
          "base_uri": "https://localhost:8080/"
        },
        "id": "vMGdGLgNaxPH",
        "outputId": "c0461259-f53f-4c65-942c-91aeb3ab149b"
      },
      "execution_count": null,
      "outputs": [
        {
          "output_type": "stream",
          "name": "stdout",
          "text": [
            "[2 4 6 8]\n"
          ]
        }
      ]
    },
    {
      "cell_type": "code",
      "source": [
        "#2D ARRAY\n",
        "var1=np.array([[1,2,3,4],[1,2,3,4]])\n",
        "var2=np.array([[1,2,3,4],[1,2,3,4]])\n",
        "varadd=np.add(var1,var2)\n",
        "print(varadd)"
      ],
      "metadata": {
        "colab": {
          "base_uri": "https://localhost:8080/"
        },
        "id": "tlQfYnQ_bf4P",
        "outputId": "da9110d7-d284-434b-8c12-34199ccc8a31"
      },
      "execution_count": null,
      "outputs": [
        {
          "output_type": "stream",
          "name": "stdout",
          "text": [
            "[[2 4 6 8]\n",
            " [2 4 6 8]]\n"
          ]
        }
      ]
    },
    {
      "cell_type": "code",
      "source": [
        "#reciprocal\n",
        "var=np.array([1,2,3,4])\n",
        "rec=np.reciprocal(var)\n",
        "print(rec)"
      ],
      "metadata": {
        "colab": {
          "base_uri": "https://localhost:8080/"
        },
        "id": "w6x3GuRWbyU4",
        "outputId": "734e5476-7ec8-47bd-f289-ce00f29da0e1"
      },
      "execution_count": null,
      "outputs": [
        {
          "output_type": "stream",
          "name": "stdout",
          "text": [
            "[1 0 0 0]\n"
          ]
        }
      ]
    },
    {
      "cell_type": "code",
      "source": [
        "#L8\n",
        "#Arithmetic FUNCTIONS\n",
        "import numpy as np\n",
        "\n",
        "var=np.array([4,4,1,2,34,5,6,7])\n",
        "\n",
        "print(\"min :\",np.min(var),np.argmin(var))\n",
        "print(\"max :\",np.max(var),np.argmax(var))"
      ],
      "metadata": {
        "colab": {
          "base_uri": "https://localhost:8080/"
        },
        "id": "0HaKQ667cmxg",
        "outputId": "4a0676ef-03bf-45a3-c820-f51b50db95a9"
      },
      "execution_count": null,
      "outputs": [
        {
          "output_type": "stream",
          "name": "stdout",
          "text": [
            "min : 1 2\n",
            "max : 34 4\n"
          ]
        }
      ]
    },
    {
      "cell_type": "code",
      "source": [
        "var=np.array([4,4,5,6,7])\n",
        "\n",
        "print(np.cumsum(var))"
      ],
      "metadata": {
        "colab": {
          "base_uri": "https://localhost:8080/"
        },
        "id": "Wu7Mo2oafB3b",
        "outputId": "28851c50-5628-406a-89ee-79204b18e631"
      },
      "execution_count": null,
      "outputs": [
        {
          "output_type": "stream",
          "name": "stdout",
          "text": [
            "[ 4  8 13 19 26]\n"
          ]
        }
      ]
    },
    {
      "cell_type": "code",
      "source": [
        "#L9\n",
        "#SHAPE\n",
        "import numpy as np\n",
        "var = np.array([[1,2],[1,2]])\n",
        "\n",
        "print(var)\n",
        "print()\n",
        "print(var.shape)"
      ],
      "metadata": {
        "colab": {
          "base_uri": "https://localhost:8080/"
        },
        "id": "CMvh4hsdfoH5",
        "outputId": "5f926878-78e7-4eae-d5cb-4e5281bd7930"
      },
      "execution_count": null,
      "outputs": [
        {
          "output_type": "stream",
          "name": "stdout",
          "text": [
            "[[1 2]\n",
            " [1 2]]\n",
            "\n",
            "(2, 2)\n"
          ]
        }
      ]
    },
    {
      "cell_type": "code",
      "source": [
        "#reshape\n",
        "import numpy as np\n",
        "var2=np.array([1,2,3,4,5,6])\n",
        "print(var2)\n",
        "print(var2.ndim)\n",
        "\n",
        "print()\n",
        "x=var2.reshape(3,2)\n",
        "\n",
        "print(x)\n",
        "print(x.ndim)"
      ],
      "metadata": {
        "id": "_MwXn8nggZay",
        "colab": {
          "base_uri": "https://localhost:8080/"
        },
        "outputId": "d498062d-7805-4b79-8c14-43397c75981c"
      },
      "execution_count": null,
      "outputs": [
        {
          "output_type": "stream",
          "name": "stdout",
          "text": [
            "[1 2 3 4 5 6]\n",
            "1\n",
            "\n",
            "[[1 2]\n",
            " [3 4]\n",
            " [5 6]]\n",
            "2\n"
          ]
        }
      ]
    },
    {
      "cell_type": "code",
      "source": [
        "#L10\n",
        "#broadcasting\n",
        "import numpy as np\n",
        "\n",
        "var1=np.array([1,2,3])\n",
        "\n",
        "var2=np.array([1,2,3])\n",
        "\n",
        "print(var1+var2)"
      ],
      "metadata": {
        "colab": {
          "base_uri": "https://localhost:8080/"
        },
        "id": "KdDdZlosQaCP",
        "outputId": "3e6b71fe-0a02-4b12-c4e9-d02c588eaefa"
      },
      "execution_count": null,
      "outputs": [
        {
          "output_type": "stream",
          "name": "stdout",
          "text": [
            "[2 4 6]\n"
          ]
        }
      ]
    },
    {
      "cell_type": "code",
      "source": [
        "#L11\n",
        " #indexing\n",
        "import numpy as np\n",
        "\n",
        "var1=np.array([1,2,3]) #1d array\n",
        "\n",
        "print(var1[2])\n",
        "\n",
        "var2=np.array([[1,2,3],[4,5,6]]) #2d array\n",
        "\n",
        "print(var2[1,2])\n",
        "\n",
        "var3=np.array([[[1,2,3],[4,5,6],[7,8,9]]]) #3d array\n",
        "\n",
        "print(var3[0,2,0])"
      ],
      "metadata": {
        "colab": {
          "base_uri": "https://localhost:8080/"
        },
        "id": "bUAj0XktSGMn",
        "outputId": "cc14f3e9-36de-4d40-f510-044a6e5f9e3f"
      },
      "execution_count": null,
      "outputs": [
        {
          "output_type": "stream",
          "name": "stdout",
          "text": [
            "3\n",
            "6\n",
            "7\n"
          ]
        }
      ]
    },
    {
      "cell_type": "code",
      "source": [
        "#slicing\n",
        "import numpy as np\n",
        "\n",
        "var1=np.array([1,2,3,4,5,6])\n",
        "\n",
        "print(var1)\n",
        "\n",
        "print()\n",
        "\n",
        "print(var1[1:4])\n",
        "print(var1[:4])\n",
        "print(var1[1:])\n",
        "print(var1[::2])"
      ],
      "metadata": {
        "colab": {
          "base_uri": "https://localhost:8080/"
        },
        "id": "g9KMCy9WWbua",
        "outputId": "5ba53b7b-dddf-4f83-907d-36e85e0b5564"
      },
      "execution_count": null,
      "outputs": [
        {
          "output_type": "stream",
          "name": "stdout",
          "text": [
            "[1 2 3 4 5 6]\n",
            "\n",
            "[2 3 4]\n",
            "[1 2 3 4]\n",
            "[2 3 4 5 6]\n",
            "[1 3 5]\n"
          ]
        }
      ]
    },
    {
      "cell_type": "code",
      "source": [
        "#L12\n",
        "#Iteration\n",
        "import numpy as np\n",
        "\n",
        "var=np.array([1,2,3,4,5,6])\n",
        "\n",
        "print(var)\n",
        "print()\n",
        "for i in var:\n",
        "  print(i)\n",
        "\n"
      ],
      "metadata": {
        "colab": {
          "base_uri": "https://localhost:8080/"
        },
        "id": "2SBZi9NIY5k7",
        "outputId": "9fd94f4d-65f4-4ee7-d418-8e1696cc3b7d"
      },
      "execution_count": null,
      "outputs": [
        {
          "output_type": "stream",
          "name": "stdout",
          "text": [
            "[1 2 3 4 5 6]\n",
            "\n",
            "1\n",
            "2\n",
            "3\n",
            "4\n",
            "5\n",
            "6\n"
          ]
        }
      ]
    },
    {
      "cell_type": "code",
      "source": [
        "var2=np.array([[1,2,3],[4,5,6]]) #2d array\n",
        "\n",
        "print(var2)\n",
        "print()\n",
        "for j in var2:\n",
        "  print(j)\n",
        "\n",
        "#for 2d in a line\n",
        "for k in var2:\n",
        "  for l in k:\n",
        "    print(l)"
      ],
      "metadata": {
        "colab": {
          "base_uri": "https://localhost:8080/"
        },
        "id": "LzUk4rxbasxG",
        "outputId": "e003e2db-b6d6-4624-eda8-89102af8a116"
      },
      "execution_count": null,
      "outputs": [
        {
          "output_type": "stream",
          "name": "stdout",
          "text": [
            "[[1 2 3]\n",
            " [4 5 6]]\n",
            "\n",
            "[1 2 3]\n",
            "[4 5 6]\n",
            "1\n",
            "2\n",
            "3\n",
            "4\n",
            "5\n",
            "6\n"
          ]
        }
      ]
    },
    {
      "cell_type": "code",
      "source": [],
      "metadata": {
        "id": "PIp_nH02bKX1"
      },
      "execution_count": null,
      "outputs": []
    }
  ]
}